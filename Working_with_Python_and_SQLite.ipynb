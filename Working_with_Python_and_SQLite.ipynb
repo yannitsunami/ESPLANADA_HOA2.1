{
  "cells": [
    {
      "cell_type": "markdown",
      "metadata": {
        "id": "view-in-github",
        "colab_type": "text"
      },
      "source": [
        "<a href=\"https://colab.research.google.com/github/yannitsunami/ESPLANADA_HOA2.1/blob/main/Working_with_Python_and_SQLite.ipynb\" target=\"_parent\"><img src=\"https://colab.research.google.com/assets/colab-badge.svg\" alt=\"Open In Colab\"/></a>"
      ]
    },
    {
      "cell_type": "markdown",
      "metadata": {
        "id": "k4ta5CmOeo7d"
      },
      "source": [
        "#Submission Details\n",
        "\n",
        "Name: <br>\n",
        "Course and Section: <br>\n",
        "Date of Submission: <br>\n",
        "Instructor: <br>\n",
        "\n",
        "---"
      ]
    },
    {
      "cell_type": "markdown",
      "source": [
        "# Working with Python and SQLite\n",
        "\n",
        "Objectives:<br>\n",
        "* Use the sqlite3 module to interact with a SQL database.<br>\n",
        "* Access data stored in SQLite using Python.<br>\n",
        "* Describe the difference in interacting with data stored as a CSV file versus in SQLite.<br>\n",
        "* Describe the benefits of accessing data using a database compared to a CSV file.<br>\n",
        "\n",
        "## Required Resources\n",
        "* 1 PC with Internet access<br>\n",
        "* Jupyter notebook<br>\n",
        "\n",
        "## SQL refresh\n",
        "* Very brief introduction to relational databases (temporary): http://searchsqlserver.techtarget.com/definition/relational-database</li>\n",
        "* More videos on relational databases: https://www.youtube.com/watch?v=jyju2P-7hPA&list=PLAwxTw4SYaPm4R6j_wzVOCV9fJaiQDYx4</li>\n",
        "* Introduction to SQL: http://www.w3schools.com/sql/sql_intro.asp</li>\n",
        "* Working with SQLite via the command-line: https://www.sqlite.org/cli.html"
      ],
      "metadata": {
        "id": "wj1s_aOCiR2J"
      }
    },
    {
      "cell_type": "markdown",
      "metadata": {
        "id": "NEL7j8cPeo7g"
      },
      "source": [
        "#### Part 1: Python and SQL\n",
        "* When you open a CSV in python, and assign it to a variable name, you are using your computers memory to save that variable. Accessing data from a database like SQL is not only more efficient, but also it allows you to subset and import only the parts of the data that you need.\n",
        "\n",
        "<b>The sqlite3 module</b><br>\n",
        "* The sqlite3 module provides a straightforward interface for interacting with SQLite databases. A connection object is created using sqlite3.connect(); the connection must be closed at the end of the session with the .close() command. While the connection is open, any interactions with the database require you to make a cursor object with the .cursor() command. The cursor is then ready to perform all kinds of operations with .execute().\n",
        "\n",
        "<b>Step 1: Create a SQL connection to our SQLite database </b><br>\n",
        "* Creating a new SQLite database is as simple as creating a connection using the sqlite3 module in the Python standard library. To establish a connection all you need to do is pass a file path to the connect(...) method in the sqlite3 module, and if the database represented by the file does not exists one will be created at that path."
      ]
    },
    {
      "cell_type": "code",
      "execution_count": null,
      "metadata": {
        "id": "sk5VIYDKeo7h"
      },
      "outputs": [],
      "source": [
        "import sqlite3\n",
        "con = sqlite3.connect('sqlite.db')"
      ]
    },
    {
      "cell_type": "markdown",
      "metadata": {
        "id": "jdztouSyeo7i"
      },
      "source": [
        "You will find that in everyday database programming you will be constantly creating connections to your database, so it is a good idea to wrap this simple connection statement into a reusable generalized function."
      ]
    },
    {
      "cell_type": "code",
      "execution_count": null,
      "metadata": {
        "id": "Qh9jOAJPeo7i"
      },
      "outputs": [],
      "source": [
        "import os\n",
        "import sqlite3\n",
        "\n",
        "# create a default path to connect to and create (if necessary) a database\n",
        "# called 'database.sqlite3' in the same directory as this script\n",
        "DEFAULT_PATH = os.path.join('sqlite.db')\n",
        "\n",
        "def db_connect(db_path=DEFAULT_PATH):\n",
        "    con = sqlite3.connect(db_path)\n",
        "    return con"
      ]
    },
    {
      "cell_type": "markdown",
      "metadata": {
        "id": "RGYucJNCeo7j"
      },
      "source": [
        "<b>Step 2: Create a table on the SQLite database </b><br>\n",
        "* The code below creates a table on the sqlite.db database. The cursor() command is needed to make a cursor object to interact with the created database. The cursor is then ready to perform all kinds of operations with .execute(). The execute() command performs a query that creates a table using the parameters as shown. The commit() command\n",
        "\n",
        "* In order to create database tables you need to have an idea of the structure of the data you are interested in storing. There are many design considerations that go into defining the tables of a relational database. To aid in the discussion of SQLite database programming with Python, we will be working off the premise that a database needs to be created for a fictitious book store that has the below data already collected on book sales.\n",
        "\n",
        "<table style=\"width:75%\">\n",
        "  <tr>\n",
        "    <th>Customer</th>\n",
        "    <th>Date</th>\n",
        "    <th>Product</th>\n",
        "      <th>Price</th>\n",
        "  </tr>\n",
        "  <tr>\n",
        "    <td>Allan Turing</td>\n",
        "    <td>2/22/1944</td>\n",
        "    <td>Introduction to Combinatorics</td>\n",
        "    <td>7.99</td>\n",
        "  </tr>\n",
        "  <tr>\n",
        "    <td>Donald Knuth</td>\n",
        "    <td>7/3/1967</td>\n",
        "    <td>A Guide to Writing Short Stories</td>\n",
        "    <td>17.99</td>\n",
        "  </tr>\n",
        "    <td>Donald Knuth</td>\n",
        "    <td>7/3/1967</td>\n",
        "    <td>Data Structures and Algorithms</td>\n",
        "    <td>11.99</td>\n",
        "   <tr>\n",
        "    <td>Edgar Codd</td>\n",
        "    <td>1/12/1969</td>\n",
        "    <td>Advanced Set Theory</td>\n",
        "    <td>16.99</td>\n",
        "  </tr>\n",
        "</table>\n",
        "\n",
        "* Upon inspecting this data, it is evident that it contains information about customers, products, and orders. A common pattern in database design for transactional systems of this type are to break the orders into two additional tables, orders and line items (sometimes referred to as order details) to achieve greater normalization.\n",
        "\n",
        "* Enter the SQL for creating the customers and products tables follows:"
      ]
    },
    {
      "cell_type": "code",
      "execution_count": null,
      "metadata": {
        "id": "CyCSCgfBeo7j",
        "colab": {
          "base_uri": "https://localhost:8080/"
        },
        "outputId": "6c8aa1ec-f1f4-47c1-c16c-711970b4c7a1"
      },
      "outputs": [
        {
          "output_type": "execute_result",
          "data": {
            "text/plain": [
              "<sqlite3.Cursor at 0x7f1ed0f44dc0>"
            ]
          },
          "metadata": {},
          "execution_count": 3
        }
      ],
      "source": [
        "con = db_connect() # connect to the database\n",
        "cur = con.cursor() # instantiate a cursor object\n",
        "customers_sql = \"\"\"CREATE TABLE customers(id integer PRIMARY KEY, first_name text NOT NULL, last_name text NOT NULL)\"\"\"\n",
        "cur.execute(customers_sql)\n",
        "products_sql = \"\"\"CREATE TABLE products (id integer PRIMARY KEY,name text NOT NULL,price real NOT NULL)\"\"\"\n",
        "cur.execute(products_sql)"
      ]
    },
    {
      "cell_type": "markdown",
      "metadata": {
        "id": "4OrUKfpeeo7k"
      },
      "source": [
        "The above code creates a connection object then uses it to instantiate a cursor object. The cursor object is used to execute SQL statements on the SQLite database.\n",
        "\n",
        "With the cursor created, we write the SQL to create the customers table, giving it a primary key along with a first and last name text field and assign it to a variable called customers_sql. Then we call the execute(...) method of the cursor object passing it the customers_sql variable. Similar steps were don for the products table.\n",
        "\n",
        "You can query the sqlite_master table, a built-in SQLite metadata table, to verify that the above commands were successful.\n",
        "\n",
        "To see all the tables in the currently connected database query the name column of the sqlite_master table where the type is equal to \"table\"."
      ]
    },
    {
      "cell_type": "code",
      "execution_count": null,
      "metadata": {
        "id": "uJyDgfm-eo7k",
        "colab": {
          "base_uri": "https://localhost:8080/"
        },
        "outputId": "6b9bef95-2967-4371-ce82-8ae7ef834762"
      },
      "outputs": [
        {
          "output_type": "stream",
          "name": "stdout",
          "text": [
            "[('customers',), ('products',)]\n"
          ]
        }
      ],
      "source": [
        "cur.execute(\"SELECT name FROM sqlite_master WHERE type='table'\")\n",
        "\n",
        "print(cur.fetchall())\n"
      ]
    },
    {
      "cell_type": "markdown",
      "metadata": {
        "id": "B-D40hGceo7l"
      },
      "source": [
        "To get a look at the schema of the tables query the sql column of the same table where the type is still \"table\" and the name is equal to \"customers\" and/or \"products\"."
      ]
    },
    {
      "cell_type": "code",
      "execution_count": null,
      "metadata": {
        "id": "SL4ixiU7eo7l",
        "colab": {
          "base_uri": "https://localhost:8080/"
        },
        "outputId": "4af8cb69-8e6b-4f2f-eb6f-b57878e923a5"
      },
      "outputs": [
        {
          "output_type": "stream",
          "name": "stdout",
          "text": [
            "CREATE TABLE customers(id integer PRIMARY KEY, first_name text NOT NULL, last_name text NOT NULL)\n"
          ]
        }
      ],
      "source": [
        "cur.execute(\"\"\"SELECT sql FROM sqlite_master WHERE type='table'AND name='customers'\"\"\")\n",
        "print(cur.fetchone()[0])"
      ]
    },
    {
      "cell_type": "markdown",
      "metadata": {
        "id": "w2joASCHeo7l"
      },
      "source": [
        "The next table to define will be the orders table which associates customers to orders via a foreign key and the date of their purchase. Since SQLite does not support an actual date/time data type (or data class to be consistent with the SQLite vernacular) all dates will be represented as text values."
      ]
    },
    {
      "cell_type": "code",
      "execution_count": null,
      "metadata": {
        "id": "N6-ByU3_eo7m",
        "colab": {
          "base_uri": "https://localhost:8080/"
        },
        "outputId": "767bc884-546a-4af5-e2a3-9f3f918438ad"
      },
      "outputs": [
        {
          "output_type": "execute_result",
          "data": {
            "text/plain": [
              "<sqlite3.Cursor at 0x7f1ed0f44dc0>"
            ]
          },
          "metadata": {},
          "execution_count": 6
        }
      ],
      "source": [
        "orders_sql = \"\"\"\n",
        "... CREATE TABLE orders (\n",
        "...     id integer PRIMARY KEY,\n",
        "...     date text NOT NULL,\n",
        "...     customer_id integer,\n",
        "...     FOREIGN KEY (customer_id) REFERENCES customers (id))\"\"\"\n",
        "cur.execute(orders_sql)"
      ]
    },
    {
      "cell_type": "markdown",
      "metadata": {
        "id": "01GPs2SDeo7m"
      },
      "source": [
        "The final table to define will be the line items table which gives a detailed accounting of the products in each order."
      ]
    },
    {
      "cell_type": "code",
      "execution_count": null,
      "metadata": {
        "id": "wxDVGsiSeo7m",
        "colab": {
          "base_uri": "https://localhost:8080/"
        },
        "outputId": "e222642c-62c3-4d7b-bfa3-b34bdbf6a015"
      },
      "outputs": [
        {
          "output_type": "execute_result",
          "data": {
            "text/plain": [
              "<sqlite3.Cursor at 0x7f1ed0f44dc0>"
            ]
          },
          "metadata": {},
          "execution_count": 7
        }
      ],
      "source": [
        "lineitems_sql = \"\"\"\n",
        "... CREATE TABLE lineitems (\n",
        "...     id integer PRIMARY KEY,\n",
        "...     quantity integer NOT NULL,\n",
        "...     total real NOT NULL,\n",
        "...     product_id integer,\n",
        "...     order_id integer,\n",
        "...     FOREIGN KEY (product_id) REFERENCES products (id),\n",
        "...     FOREIGN KEY (order_id) REFERENCES orders (id))\"\"\"\n",
        "cur.execute(lineitems_sql)"
      ]
    },
    {
      "cell_type": "markdown",
      "metadata": {
        "id": "xTpB5eOUeo7m"
      },
      "source": [
        "<b>Step 3: Loading the Data</b><br>\n",
        "In this section we will use INSERT to our sample data into the tables just created. A natural starting place would be to populate the products table first because without products we cannot have a sale and thus would not have the foreign keys to relate to the line items and orders. Looking at the sample data, we see that there are four products:\n",
        "\n",
        "1. Introduction to Combinatorics - 7.99\n",
        "2. A Guide to Writing Short Stories -17.99\n",
        "3. Data Structures and Algorithms - 11.99\n",
        "4. Advanced Set Theory - 16.99\n",
        "\n",
        "The workflow for executing INSERT statements is simply:\n",
        "\n",
        "1. Connect to the database<br>\n",
        "2. Create a cursor object<br>\n",
        "3. Write a parameterized insert SQL statement and store as a variable<br>\n",
        "4. Call the execute method on the cursor object passing it the sql variable and the values, as a tuple, to be inserted into the table<br><br>\n",
        "Given this general outline let us write some more code."
      ]
    },
    {
      "cell_type": "code",
      "execution_count": null,
      "metadata": {
        "id": "3h-fMXX6eo7m"
      },
      "outputs": [],
      "source": [
        "con = db_connect()\n",
        "cur = con.cursor()\n",
        "product_sql = \"INSERT INTO products (name, price) VALUES (?, ?)\"\n",
        "cur.execute(product_sql, ('Introduction to Combinatorics', 7.99))\n",
        "cur.execute(product_sql, ('A Guide to Writing Short Stories', 17.99))\n",
        "cur.execute(product_sql, ('Data Structures and Algorithms', 11.99))\n",
        "cur.execute(product_sql, ('Advanced Set Theory', 16.99))\n",
        "con.commit()"
      ]
    },
    {
      "cell_type": "markdown",
      "metadata": {
        "id": "IOxPwVcBeo7n"
      },
      "source": [
        "The insert statement follows the standard SQL syntax except for the ? bit. The ?'s are actually placeholders in what is known as a \"parameterized query\".\n",
        "\n",
        "Parameterized queries are an important feature of essentially all database interfaces to modern high level programming languages such as the sqlite3 module in Python. This type of query serves to improve the efficiency of queries that are repeated several times. Perhaps more important, they also sanitize inputs that take the place of the ? placeholders which are passed in during the call to the execute method of the cursor object to prevent nefarious inputs leading to SQL injection."
      ]
    },
    {
      "cell_type": "markdown",
      "metadata": {
        "id": "L8gGxAjmeo7n"
      },
      "source": [
        "To populate the remaining tables we are going to follow a slightly different pattern to change things up a bit. The workflow for each order, identified by a combination of customer first and last name and the purchase date, will be:\n",
        "\n",
        "1. Insert the new customer into the customers table and retrieve its primary key id\n",
        "2. Create an order entry based off the customer id and the purchase date then retrieve its primary key id\n",
        "3. For each product in the order determine its primary key id and create a line item entry associating the order and the product\n",
        "4. To make things simpler on ourselves let us do a quick look up of all our products. For now do not worry too much about the mechanics of the SELECT SQL statement as we will devote a section to it shortly."
      ]
    },
    {
      "cell_type": "code",
      "execution_count": null,
      "metadata": {
        "id": "Z7OK_ME_eo7n",
        "colab": {
          "base_uri": "https://localhost:8080/"
        },
        "outputId": "9cb2e55b-4bce-4717-faa7-dc3329eb8d67"
      },
      "outputs": [
        {
          "output_type": "stream",
          "name": "stdout",
          "text": [
            "Id   Product                            Price\n",
            "1    Introduction to Combinatorics       7.99\n",
            "2    A Guide to Writing Short Stories   17.99\n",
            "3    Data Structures and Algorithms     11.99\n",
            "4    Advanced Set Theory                16.99\n"
          ]
        }
      ],
      "source": [
        "cur.execute(\"SELECT id, name, price FROM products\")\n",
        "formatted_result = [f\"{id:<5}{name:<35}{price:>5}\" for id, name, price in cur.fetchall()]\n",
        "id, product, price = \"Id\", \"Product\", \"Price\"\n",
        "print('\\n'.join([f\"{id:<5}{product:<35}{price:>5}\"] + formatted_result))"
      ]
    },
    {
      "cell_type": "markdown",
      "metadata": {
        "id": "Ycf8e-7Ceo7n"
      },
      "source": [
        "The first order was placed on Feb 22, 1944 by Alan Turing who purchased Introduction to Combinatorics for $7.99.\n",
        "\n",
        "Start by making a new customer record for Mr. Turing then determine his primary key id by accessing the lastrowid field of the cursor object."
      ]
    },
    {
      "cell_type": "code",
      "execution_count": null,
      "metadata": {
        "id": "5iflUuZNeo7n",
        "colab": {
          "base_uri": "https://localhost:8080/"
        },
        "outputId": "8c7218ba-0238-4175-bec4-e7259fa019c5"
      },
      "outputs": [
        {
          "output_type": "stream",
          "name": "stdout",
          "text": [
            "1\n"
          ]
        }
      ],
      "source": [
        "customer_sql = \"INSERT INTO customers (first_name, last_name) VALUES (?, ?)\"\n",
        "cur.execute(customer_sql, ('Alan', 'Turing'))\n",
        "customer_id = cur.lastrowid\n",
        "print(customer_id)\n",
        "con.commit()"
      ]
    },
    {
      "cell_type": "markdown",
      "metadata": {
        "id": "o79-zqxZeo7n"
      },
      "source": [
        "<b style=\"color:red;\">Task 1: Insert 3 more records on the customers table</b>\n",
        "<br>\n",
        "Insert the following records:\n",
        "1. Donald Knuth\n",
        "2. Edgar Codd\n",
        "3. Martin Forest\n"
      ]
    },
    {
      "cell_type": "code",
      "execution_count": null,
      "metadata": {
        "id": "pMMe4APHeo7o"
      },
      "outputs": [],
      "source": [
        "#code here\n"
      ]
    },
    {
      "cell_type": "markdown",
      "metadata": {
        "id": "_tGWQQr4eo7o"
      },
      "source": [
        "We can now create an order entry, collect the new order id value and associate it to a line item entry along with the product Mr. Turing ordered."
      ]
    },
    {
      "cell_type": "code",
      "execution_count": null,
      "metadata": {
        "id": "X0EU72Vgeo7o"
      },
      "outputs": [],
      "source": [
        "order_sql = \"INSERT INTO orders (date, customer_id) VALUES (?, ?)\"\n",
        "date = \"1944-02-22\" # ISO formatted date\n",
        "cur.execute(order_sql, (date, customer_id))\n",
        "order_id = cur.lastrowid\n",
        "print(order_id)\n",
        "con.commit()"
      ]
    },
    {
      "cell_type": "markdown",
      "metadata": {
        "id": "uYa8M7azeo7o"
      },
      "source": [
        "<b style=\"color:red;\">Task 2: Insert 3 more records on the orders table</b>\n",
        "<br>\n",
        "Insert the following records:\n",
        "1. for Donald Knuth, date is 7/3/1967\n",
        "2. Edgar Codd, date is 1/12/1969\n",
        "3. Martin Forest, date is 1/15/2021"
      ]
    },
    {
      "cell_type": "code",
      "execution_count": null,
      "metadata": {
        "id": "c8IyG76Yeo7o"
      },
      "outputs": [],
      "source": [
        "# code here\n",
        "con.rollback()"
      ]
    },
    {
      "cell_type": "markdown",
      "metadata": {
        "id": "5zhsMaj4eo7o"
      },
      "source": [
        "Each order can be inserted into the lineitems as shown below."
      ]
    },
    {
      "cell_type": "code",
      "execution_count": null,
      "metadata": {
        "id": "xWMkMKWReo7o"
      },
      "outputs": [],
      "source": [
        "li_sql = \"\"\"INSERT INTO lineitems\n",
        "...       (order_id, product_id, quantity, total)\n",
        "...     VALUES (?, ?, ?, ?)\"\"\"\n",
        "product_id = 1\n",
        "cur.execute(li_sql, (order_id, 1, 1, 7.99))\n",
        "con.commit()"
      ]
    },
    {
      "cell_type": "markdown",
      "metadata": {
        "id": "2E3YfDLLeo7o"
      },
      "source": [
        "The remaining records are loaded exactly the same except for the order made to Donald Knuth, which will receive two line item entries."
      ]
    },
    {
      "cell_type": "markdown",
      "metadata": {
        "id": "5dAOKHr4eo7o"
      },
      "source": [
        "<b style=\"color:red;\">Task 3: Insert 3 more records on the lineitems</b>\n",
        "<br>\n",
        "Insert the following records:\n",
        "1. for Donald Knuth, insert (order_id, 2, 2, 17.99)\n",
        "2. Edgar Codd, insert (order_id, 3, 3, 11.99)\n",
        "3. Martin Forest, insert (order_id, 4, 4, 10.99)"
      ]
    },
    {
      "cell_type": "code",
      "execution_count": 139,
      "metadata": {
        "id": "c4fE38fleo7p",
        "outputId": "04bafd56-fd4b-4d8f-b705-20d31754e65e",
        "colab": {
          "base_uri": "https://localhost:8080/",
          "height": 106
        }
      },
      "outputs": [
        {
          "output_type": "error",
          "ename": "SyntaxError",
          "evalue": "incomplete input (<ipython-input-139-33473db3c206>, line 2)",
          "traceback": [
            "\u001b[0;36m  File \u001b[0;32m\"<ipython-input-139-33473db3c206>\"\u001b[0;36m, line \u001b[0;32m2\u001b[0m\n\u001b[0;31m    li_sql = \"\"\"INSERT INTO lineitems\u001b[0m\n\u001b[0m             ^\u001b[0m\n\u001b[0;31mSyntaxError\u001b[0m\u001b[0;31m:\u001b[0m incomplete input\n"
          ]
        }
      ],
      "source": [
        "#code here\n",
        "li_sql = \"\"\"INSERT INTO lineitems\n",
        "... (order_id, product_id, quantity, total)\n",
        "... VALUES (?, ?, ?, ?)\"\"\"\n",
        "product_id = 2\n"
      ]
    },
    {
      "cell_type": "markdown",
      "metadata": {
        "id": "dZFBVTcPeo7p"
      },
      "source": [
        "<b>Step 3: Querying the Database</b><br>\n",
        "\n",
        "Generally the most common action performed on a database is a retrieval of some of the data stored in it via a SELECT statement. For this section, we will be demonstrating how to use the sqlite3 interface to perform simple SELECT queries.\n",
        "\n",
        "To perform a basic multirow query of the customers table you pass a SELECT statement to the execute(...) method of the cursor object. After this you can iterate over the results of the query by calling the fetchall() method of the same cursor object."
      ]
    },
    {
      "cell_type": "code",
      "execution_count": null,
      "metadata": {
        "id": "H4a6BZEMeo7p"
      },
      "outputs": [],
      "source": [
        "cur.execute(\"SELECT * FROM customers\")\n",
        "results = cur.fetchall()\n",
        "for row in results:\n",
        "    print(row)"
      ]
    },
    {
      "cell_type": "markdown",
      "metadata": {
        "id": "8SZqfCkAeo7p"
      },
      "source": [
        "Lets say you would like to instead just retrieve one record from the database. You can do this by writing a more specific query, say for Donald Knuth's id of 2, and following that up by calling fetchone() method of the cursor object."
      ]
    },
    {
      "cell_type": "code",
      "execution_count": null,
      "metadata": {
        "id": "JogI-cpCeo7p"
      },
      "outputs": [],
      "source": [
        "cur.execute(\"SELECT id, first_name, last_name FROM customers WHERE id = 2\")\n",
        "result = cur.fetchone()\n",
        "print(result)"
      ]
    },
    {
      "cell_type": "markdown",
      "metadata": {
        "id": "X0VpN8T7eo7p"
      },
      "source": [
        "See how the individual row of each result is in the form of a tuple? Well while tuples are a very useful Pythonic data structure for some programming use cases many people find them a bit hindering when it comes to the task of data retrieval. It just so happens that there is a way to represent the data in a way that is perhaps more flexible to some. All you need to do is set the row_factory method of the connection object to something more suitable such as sqlite3.Row. This will give you the ability to access the individual items of a row by position or keyword value."
      ]
    },
    {
      "cell_type": "code",
      "execution_count": null,
      "metadata": {
        "id": "DP-ymPz1eo7p"
      },
      "outputs": [],
      "source": [
        "con.row_factory = sqlite3.Row\n",
        "cur = con.cursor()\n",
        "cur.execute(\"SELECT id, first_name, last_name FROM customers WHERE id = 1\")\n",
        "result = cur.fetchone()\n",
        "id, first_name, last_name = result['id'], result['first_name'], result['last_name']\n",
        "print(f\"Customer: {first_name} {last_name}'s id is {id}\")"
      ]
    },
    {
      "cell_type": "markdown",
      "metadata": {
        "id": "_9Ve1VfYeo7p"
      },
      "source": [
        "<b style=\"color:red;\">Supplementary Activity:</b>\n",
        "1. Create a database and call it user.db\n",
        "2. Create a table named \"users\" and insert the following: (id int, name TEXT, email TEXT)\n",
        "3. Insert the following data: <br>\n",
        "(1, 'Jonathan','jvtaylar@gmail.com'),<br>\n",
        "(2, 'John','jonathan@gmail.com'),<br>\n",
        "(3,'cpeEncoders','encoders@gmail.com')<br>\n",
        "4. Select all data from users.\n",
        "5. Select id = 3 from users.\n",
        "6. Update user id = 3 name and set it to \"James.\"\n",
        "7. Insert the following data: (4, 'Cynthia','cynthia@gmail.com')\n",
        "8. Delete id = 4 from users.\n",
        "9. Display all contents in a formatted way."
      ]
    },
    {
      "cell_type": "markdown",
      "source": [
        "1. Create a database and call it user.db\n"
      ],
      "metadata": {
        "id": "hVKhTbNbB6Ia"
      }
    },
    {
      "cell_type": "code",
      "source": [
        "import sqlite3\n",
        "con = sqlite3.connect('user.db')"
      ],
      "metadata": {
        "id": "gYcx83Y8CPga"
      },
      "execution_count": 152,
      "outputs": []
    },
    {
      "cell_type": "code",
      "source": [
        "DEFAULT_PATH = os.path.join('user.db')"
      ],
      "metadata": {
        "id": "qW-RpbX9CZO9"
      },
      "execution_count": 153,
      "outputs": []
    },
    {
      "cell_type": "code",
      "source": [
        "def db_connect(db_path=DEFAULT_PATH):\n",
        " con = sqlite3.connect(db_path)\n",
        " return con"
      ],
      "metadata": {
        "id": "gb_6Xd1yCc6C"
      },
      "execution_count": 168,
      "outputs": []
    },
    {
      "cell_type": "markdown",
      "source": [
        "2. Create a table named \"users\" and insert the following: (id int, name TEXT, email TEXT)\n"
      ],
      "metadata": {
        "id": "oBuiLs7uB9p6"
      }
    },
    {
      "cell_type": "code",
      "source": [
        "con = db_connect()\n",
        "cur = con.cursor()\n",
        "customers_sql = \"\"\"CREATE TABLE users(id integer PRIMARY KEY, name text NOT NULL, email text NOT NULL)\"\"\"\n",
        "cur.execute(customers_sql)"
      ],
      "metadata": {
        "id": "PN_2WfrgCijq",
        "outputId": "eb7335ff-bacd-41ca-e4bb-2ce5669122da",
        "colab": {
          "base_uri": "https://localhost:8080/"
        }
      },
      "execution_count": 155,
      "outputs": [
        {
          "output_type": "execute_result",
          "data": {
            "text/plain": [
              "<sqlite3.Cursor at 0x7e08ea0de4c0>"
            ]
          },
          "metadata": {},
          "execution_count": 155
        }
      ]
    },
    {
      "cell_type": "code",
      "source": [
        "cur.execute(\"SELECT name FROM sqlite_master WHERE type='table'\")\n",
        "print(cur.fetchall())"
      ],
      "metadata": {
        "id": "oIVd0zJOCwrL",
        "outputId": "1e79ada9-278a-4e27-eef5-ace23d0981ff",
        "colab": {
          "base_uri": "https://localhost:8080/"
        }
      },
      "execution_count": 156,
      "outputs": [
        {
          "output_type": "stream",
          "name": "stdout",
          "text": [
            "[('users',)]\n"
          ]
        }
      ]
    },
    {
      "cell_type": "markdown",
      "source": [
        "3. Insert the following data: <br>\n",
        "(1, 'Jonathan','jvtaylar@gmail.com'),<br>\n",
        "(2, 'John','jonathan@gmail.com'),<br>\n",
        "(3,'cpeEncoders','encoders@gmail.com')<br>"
      ],
      "metadata": {
        "id": "F1if1UFYB-dC"
      }
    },
    {
      "cell_type": "code",
      "source": [
        "customer_sql = \"INSERT INTO users (name, email) VALUES (?, ?)\"\n",
        "cur.execute(customer_sql, ('cpeEncoders', 'encoders@gmail.com'))\n",
        "customer_id = cur.lastrowid\n",
        "print(customer_id)\n",
        "con.commit()"
      ],
      "metadata": {
        "id": "2RHDqpwVC0q7",
        "outputId": "282e6c4d-4b22-4913-f3b2-6521dc68d040",
        "colab": {
          "base_uri": "https://localhost:8080/"
        }
      },
      "execution_count": 157,
      "outputs": [
        {
          "output_type": "stream",
          "name": "stdout",
          "text": [
            "1\n"
          ]
        }
      ]
    },
    {
      "cell_type": "markdown",
      "source": [
        "4. Select all data from users.\n"
      ],
      "metadata": {
        "id": "FWgkS2KZCBZC"
      }
    },
    {
      "cell_type": "code",
      "source": [
        "cur.execute(\"SELECT * FROM users\")\n",
        "results = cur.fetchall()\n",
        "for row in results:\n",
        "  print(row)\n"
      ],
      "metadata": {
        "id": "zrkgn1U9EQRD",
        "outputId": "7c32f740-3905-4e1d-f073-748e2c8209f6",
        "colab": {
          "base_uri": "https://localhost:8080/"
        }
      },
      "execution_count": 158,
      "outputs": [
        {
          "output_type": "stream",
          "name": "stdout",
          "text": [
            "(1, 'cpeEncoders', 'encoders@gmail.com')\n"
          ]
        }
      ]
    },
    {
      "cell_type": "markdown",
      "source": [
        "5. Select id = 3 from users."
      ],
      "metadata": {
        "id": "yxnzNMbaCD5a"
      }
    },
    {
      "cell_type": "code",
      "source": [
        "cur.execute(\"SELECT name, email FROM users WHERE id = 3\")\n",
        "result = cur.fetchone()\n",
        "print(result)\n"
      ],
      "metadata": {
        "id": "oQCNB0N8Eary",
        "outputId": "790d8594-4ac6-4a5b-f908-84539694eee8",
        "colab": {
          "base_uri": "https://localhost:8080/"
        }
      },
      "execution_count": 166,
      "outputs": [
        {
          "output_type": "stream",
          "name": "stdout",
          "text": [
            "None\n"
          ]
        }
      ]
    },
    {
      "cell_type": "markdown",
      "source": [
        "6. Update user id = 3 name and set it to \"James.\"\n"
      ],
      "metadata": {
        "id": "L4pMapsxCIK5"
      }
    },
    {
      "cell_type": "code",
      "source": [
        "cur.execute(\"UPDATE users SET name = 'James' WHERE id =3\")\n",
        "cur.execute(\"SELECT name, email FROM users WHERE id = 3\")\n",
        "results = cur.fetchall()\n",
        "for row in results:\n",
        "  print(row)\n"
      ],
      "metadata": {
        "id": "veQw1UdsEfCU"
      },
      "execution_count": 160,
      "outputs": []
    },
    {
      "cell_type": "markdown",
      "source": [
        "7. Insert the following data: (4, 'Cynthia','cynthia@gmail.com')"
      ],
      "metadata": {
        "id": "k7pMHq-jCK4B"
      }
    },
    {
      "cell_type": "code",
      "source": [
        "customer_sql = \"INSERT INTO users (name, email) VALUES (?, ?)\"\n",
        "cur.execute(customer_sql, ('Cynthia', 'cynthia@gmail.com'))\n",
        "customer_id = cur.lastrowid\n",
        "print(customer_id)\n",
        "con.commit()\n"
      ],
      "metadata": {
        "id": "M8ggoxTKEm-S",
        "outputId": "99499978-4402-499e-b95f-b8b8354a73a5",
        "colab": {
          "base_uri": "https://localhost:8080/"
        }
      },
      "execution_count": 133,
      "outputs": [
        {
          "output_type": "stream",
          "name": "stdout",
          "text": [
            "4\n"
          ]
        }
      ]
    },
    {
      "cell_type": "code",
      "source": [
        "cur.execute(\"SELECT name, email FROM users WHERE id = 4\")\n",
        "results = cur.fetchall()\n",
        "for row in results:\n",
        "  print(row)\n"
      ],
      "metadata": {
        "id": "6BlwdDzPEr-q"
      },
      "execution_count": 164,
      "outputs": []
    },
    {
      "cell_type": "markdown",
      "source": [
        "8. Delete id = 4 from users.\n"
      ],
      "metadata": {
        "id": "stB6B5FqCLjR"
      }
    },
    {
      "cell_type": "code",
      "source": [
        "cur.execute(\"DELETE FROM users WHERE id = 4\")\n",
        "cur.execute(\"SELECT * FROM users\")\n",
        "results = cur.fetchall()\n",
        "for row in results:\n",
        "  print(row)\n"
      ],
      "metadata": {
        "id": "RH_5P6l4EyWa",
        "outputId": "028d6bf0-0281-4299-ce6b-347b3965a4b7",
        "colab": {
          "base_uri": "https://localhost:8080/"
        }
      },
      "execution_count": 162,
      "outputs": [
        {
          "output_type": "stream",
          "name": "stdout",
          "text": [
            "(1, 'cpeEncoders', 'encoders@gmail.com')\n"
          ]
        }
      ]
    },
    {
      "cell_type": "markdown",
      "source": [
        "9. Display all contents in a formatted way."
      ],
      "metadata": {
        "id": "fE3SXp90COhy"
      }
    },
    {
      "cell_type": "code",
      "source": [
        "import sqlite3\n",
        "\n",
        "# Connect to SQLite database (or create it if it doesn't exist)\n",
        "conn = sqlite3.connect('example.db')\n",
        "cursor = conn.cursor()\n",
        "\n",
        "# Create the table if it doesn't exist\n",
        "cursor.execute('''\n",
        "CREATE TABLE IF NOT EXISTS users (\n",
        "    id INTEGER PRIMARY KEY,\n",
        "    name TEXT NOT NULL,\n",
        "    email TEXT NOT NULL\n",
        ")\n",
        "''')\n",
        "\n",
        "# Clear the table to avoid UNIQUE constraint errors\n",
        "cursor.execute('DELETE FROM users')\n",
        "\n",
        "# Insert the data into the table\n",
        "data = [\n",
        "    (1, 'Jonathan', 'jvtaylar@gmail.com'),\n",
        "    (2, 'John', 'jonathan@gmail.com'),\n",
        "    (3, 'cpeEncoders', 'encoders@gmail.com')\n",
        "]\n",
        "\n",
        "cursor.executemany('INSERT INTO users (id, name, email) VALUES (?, ?, ?)', data)\n",
        "\n",
        "# Commit the changes\n",
        "conn.commit()\n",
        "\n",
        "# Fetch and display the data in a formatted way\n",
        "cursor.execute('SELECT * FROM users')\n",
        "rows = cursor.fetchall()\n",
        "\n",
        "# Print the table header\n",
        "print(f\"+----+------------+---------------------+\")\n",
        "print(f\"| id | name       | email               |\")\n",
        "print(f\"+----+------------+---------------------+\")\n",
        "\n",
        "# Print each row\n",
        "for row in rows:\n",
        "    print(f\"| {row[0]:<2} | {row[1]:<10} | {row[2]:<19} |\")\n",
        "\n",
        "# Print the table footer\n",
        "print(f\"+----+------------+---------------------+\")\n",
        "\n",
        "# Close the connection\n",
        "conn.close()"
      ],
      "metadata": {
        "id": "I08ermjWIjmL",
        "outputId": "813ad268-0ffa-4662-9c8b-635e75bd50b4",
        "colab": {
          "base_uri": "https://localhost:8080/"
        }
      },
      "execution_count": 167,
      "outputs": [
        {
          "output_type": "stream",
          "name": "stdout",
          "text": [
            "+----+------------+---------------------+\n",
            "| id | name       | email               |\n",
            "+----+------------+---------------------+\n",
            "| 1  | Jonathan   | jvtaylar@gmail.com  |\n",
            "| 2  | John       | jonathan@gmail.com  |\n",
            "| 3  | cpeEncoders | encoders@gmail.com  |\n",
            "+----+------------+---------------------+\n"
          ]
        }
      ]
    },
    {
      "cell_type": "markdown",
      "source": [
        "Conclusions/Observations:\n"
      ],
      "metadata": {
        "id": "6GtdAG1AFGKK"
      }
    },
    {
      "cell_type": "markdown",
      "source": [
        "In conclusion, I gained knowledge on using the cursor execute command and utilizing the sqlite3 module to interact with an SQL database. I learned how to access data stored in SQLite through Python, and I understood the distinctions between handling data in a CSV file versus in SQLite. Additionally, I grasped the importance of using a database for data access compared to a CSV file."
      ],
      "metadata": {
        "id": "JChFyJEhFIzC"
      }
    }
  ],
  "metadata": {
    "kernelspec": {
      "display_name": "Python 3",
      "language": "python",
      "name": "python3"
    },
    "language_info": {
      "codemirror_mode": {
        "name": "ipython",
        "version": 3
      },
      "file_extension": ".py",
      "mimetype": "text/x-python",
      "name": "python",
      "nbconvert_exporter": "python",
      "pygments_lexer": "ipython3",
      "version": "3.7.7"
    },
    "colab": {
      "provenance": [],
      "include_colab_link": true
    }
  },
  "nbformat": 4,
  "nbformat_minor": 0
}